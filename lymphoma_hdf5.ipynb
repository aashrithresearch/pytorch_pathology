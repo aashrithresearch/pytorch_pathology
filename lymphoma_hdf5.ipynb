{
  "nbformat": 4,
  "nbformat_minor": 0,
  "metadata": {
    "colab": {
      "provenance": [],
      "include_colab_link": true
    },
    "kernelspec": {
      "name": "python3",
      "display_name": "Python 3"
    },
    "language_info": {
      "name": "python"
    }
  },
  "cells": [
    {
      "cell_type": "markdown",
      "metadata": {
        "id": "view-in-github",
        "colab_type": "text"
      },
      "source": [
        "<a href=\"https://colab.research.google.com/github/aashrithresearch/pytorch_pathology/blob/main/lymphoma_hdf5.ipynb\" target=\"_parent\"><img src=\"https://colab.research.google.com/assets/colab-badge.svg\" alt=\"Open In Colab\"/></a>"
      ]
    },
    {
      "cell_type": "code",
      "execution_count": null,
      "metadata": {
        "colab": {
          "base_uri": "https://localhost:8080/"
        },
        "id": "1mb4b7myXCHH",
        "outputId": "953e9213-bee4-4518-8d67-cf7d6eea5065"
      },
      "outputs": [
        {
          "output_type": "stream",
          "name": "stdout",
          "text": [
            "Mounted at /content/drive\n"
          ]
        }
      ],
      "source": [
        "from google.colab import drive\n",
        "drive.mount('/content/drive')"
      ]
    },
    {
      "cell_type": "code",
      "source": [
        "! cd /content/drive/MyDrive/lymphoma.tar"
      ],
      "metadata": {
        "id": "LcL8tLwPXFGp"
      },
      "execution_count": null,
      "outputs": []
    },
    {
      "cell_type": "code",
      "source": [
        "import torch\n",
        "import tables\n",
        "\n",
        "import os,sys\n",
        "import glob\n",
        "\n",
        "import PIL\n",
        "import numpy as np\n",
        "\n",
        "import cv2\n",
        "import matplotlib.pyplot as plt\n",
        "\n",
        "from sklearn import model_selection\n",
        "import random"
      ],
      "metadata": {
        "id": "SAYf1gy_YCy3"
      },
      "execution_count": null,
      "outputs": []
    },
    {
      "cell_type": "code",
      "source": [
        "data = \"lymphoma\"\n",
        "patch_size = 256\n",
        "stride_size = 256\n",
        "mirror_pad_size = 128\n",
        "test_data = 0.1\n",
        "resize = 1\n",
        "classes = ['CLL', 'FL', 'MCL']"
      ],
      "metadata": {
        "id": "EFrbm7SeXlLV"
      },
      "execution_count": null,
      "outputs": []
    },
    {
      "cell_type": "code",
      "source": [
        "seed = random.randrange(sys.maxsize)\n",
        "print(seed)"
      ],
      "metadata": {
        "colab": {
          "base_uri": "https://localhost:8080/"
        },
        "id": "d0R4P2olZEk2",
        "outputId": "3d5adaf7-46c3-4846-f5f5-56d3c8ca59fd"
      },
      "execution_count": null,
      "outputs": [
        {
          "output_type": "stream",
          "name": "stdout",
          "text": [
            "1320398590637321459\n"
          ]
        }
      ]
    },
    {
      "cell_type": "code",
      "source": [
        "random.seed(seed)\n",
        "print(f\"random seed: {seed}\")"
      ],
      "metadata": {
        "colab": {
          "base_uri": "https://localhost:8080/"
        },
        "id": "ycl8OvrsZNaT",
        "outputId": "baeb8c34-c37a-4459-e2ea-dfa8ad715417"
      },
      "execution_count": null,
      "outputs": [
        {
          "output_type": "stream",
          "name": "stdout",
          "text": [
            "random seed: 1320398590637321459\n"
          ]
        }
      ]
    },
    {
      "cell_type": "code",
      "source": [
        "img_dtype = tables.UInt8Atom()\n",
        "filenameAtom = tables.StringAtom(itemsize=255)"
      ],
      "metadata": {
        "id": "CADJ8VF2ZYqZ"
      },
      "execution_count": null,
      "outputs": []
    },
    {
      "cell_type": "code",
      "source": [
        "files = glob.glob(f\"/content/drive/MyDrive/lymphoma.tar/**/*.tif\")"
      ],
      "metadata": {
        "id": "UA_Bzo0pbvci"
      },
      "execution_count": null,
      "outputs": []
    },
    {
      "cell_type": "code",
      "source": [
        "phases={}\n",
        "phases[\"train\"],phases[\"val\"]=next(iter(model_selection.ShuffleSplit(n_splits=1,test_size=test_data).split(files)))"
      ],
      "metadata": {
        "id": "o5D7XeyjbyBv"
      },
      "execution_count": null,
      "outputs": []
    },
    {
      "cell_type": "code",
      "source": [
        "phases[\"train\"]=phases[\"train\"][0:100]\n",
        "phases[\"val\"]=phases[\"val\"][0:20]"
      ],
      "metadata": {
        "id": "NaoL9pLcb6hX"
      },
      "execution_count": null,
      "outputs": []
    },
    {
      "cell_type": "code",
      "source": [
        "storage = {}\n",
        "block_shape = np.array((patch_size, patch_size, 3))"
      ],
      "metadata": {
        "id": "2_yEEnaYciu7"
      },
      "execution_count": null,
      "outputs": []
    },
    {
      "cell_type": "code",
      "source": [
        "filters=tables.Filters(complevel=6, complib='zlib')"
      ],
      "metadata": {
        "id": "XQ3W7lsgdDps"
      },
      "execution_count": null,
      "outputs": []
    },
    {
      "cell_type": "code",
      "source": [
        "import numbers\n",
        "import numpy as np\n",
        "from numpy.lib.stride_tricks import as_strided"
      ],
      "metadata": {
        "id": "PHp4zY4igXCQ"
      },
      "execution_count": null,
      "outputs": []
    },
    {
      "cell_type": "code",
      "source": [
        "def extract_patches(arr, patch_shape=8, extraction_step=1):\n",
        "    arr_ndim = arr.ndim\n",
        "\n",
        "    if isinstance(patch_shape, numbers.Number):\n",
        "        patch_shape = tuple([patch_shape] * arr_ndim)\n",
        "    if isinstance(extraction_step, numbers.Number):\n",
        "        extraction_step = tuple([extraction_step] * arr_ndim)\n",
        "\n",
        "    patch_strides = arr.strides\n",
        "\n",
        "    slices = tuple(slice(None, None, st) for st in extraction_step)\n",
        "    indexing_strides = arr[slices].strides\n",
        "\n",
        "    patch_indices_shape = (\n",
        "        (np.array(arr.shape) - np.array(patch_shape)) // np.array(extraction_step)\n",
        "    ) + 1\n",
        "\n",
        "    shape = tuple(list(patch_indices_shape) + list(patch_shape))\n",
        "    strides = tuple(list(indexing_strides) + list(patch_strides))\n",
        "\n",
        "    patches = as_strided(arr, shape=shape, strides=strides)\n",
        "    return patches"
      ],
      "metadata": {
        "id": "jahTQyawgZ_b"
      },
      "execution_count": null,
      "outputs": []
    },
    {
      "source": [
        "for phase in phases.keys():\n",
        "  print(phase)\n",
        "  totals=np.zeros(len(classes))\n",
        "  hdf5_file = tables.open_file(f\"/content/drive/MyDrive/lymphoma.tar/{data}_{phase}.pytable\", mode='w')\n",
        "\n",
        "  storage[\"filenames\"] = hdf5_file.create_earray(hdf5_file.root, 'filenames', filenameAtom, (0,)) #create the array for storage\n",
        "\n",
        "  storage[\"imgs\"]= hdf5_file.create_earray(hdf5_file.root, \"imgs\", img_dtype,\n",
        "                                              shape=np.append([0],block_shape),\n",
        "                                              chunkshape=np.append([1],block_shape),\n",
        "                                              filters=filters)\n",
        "  storage[\"labels\"]= hdf5_file.create_earray(hdf5_file.root, \"labels\", img_dtype,\n",
        "                                              shape=[0],\n",
        "                                              chunkshape=[1],\n",
        "                                              filters=filters)\n",
        "\n",
        "  for filei in phases[phase]: #now for each of the files\n",
        "    fname=files[filei]\n",
        "\n",
        "    print(fname)\n",
        "    classid=[idx for idx in range(len(classes)) if classes[idx] in fname][0]\n",
        "    totals[classid]+=1\n",
        "\n",
        "    io=cv2.cvtColor(cv2.imread(fname),cv2.COLOR_BGR2RGB)\n",
        "    interp_method=PIL.Image.BICUBIC\n",
        "\n",
        "\n",
        "    io = cv2.resize(io,(0,0),fx=resize,fy=resize, interpolation=interp_method) #resize it as specified above\n",
        "    io = np.pad(io, [(mirror_pad_size, mirror_pad_size), (mirror_pad_size, mirror_pad_size), (0, 0)], mode=\"reflect\")\n",
        "\n",
        "        #convert input image into overlapping tiles, size is ntiler x ntilec x 1 x patch_size x patch_size x3\n",
        "    io_arr_out=extract_patches(io,(patch_size,patch_size,3),stride_size)\n",
        "\n",
        "        #resize it into a ntile x patch_size x patch_size x 3\n",
        "    io_arr_out=io_arr_out.reshape(-1,patch_size,patch_size,3)\n",
        "\n",
        "\n",
        "\n",
        "    storage[\"imgs\"].append(io_arr_out)\n",
        "    storage[\"labels\"].append([classid for x in range(io_arr_out.shape[0])]) #add the filename to the storage array\n",
        "    storage[\"filenames\"].append([fname for x in range(io_arr_out.shape[0])]) #add the filename to the storage array\n",
        "\n",
        "    #lastely, we should store the number of pixels\n",
        "  npixels=hdf5_file.create_carray(hdf5_file.root, 'classsizes', tables.Atom.from_dtype(totals.dtype), totals.shape)\n",
        "  npixels[:]=totals\n",
        "  hdf5_file.close()"
      ],
      "cell_type": "code",
      "metadata": {
        "colab": {
          "base_uri": "https://localhost:8080/"
        },
        "id": "WZAMpABHiYBM",
        "outputId": "131317cb-2107-4ed9-adfb-140342303b9a"
      },
      "execution_count": null,
      "outputs": [
        {
          "output_type": "stream",
          "name": "stdout",
          "text": [
            "train\n",
            "/content/drive/MyDrive/lymphoma.tar/CLL/sj-05-1396-R3_001.tif\n",
            "/content/drive/MyDrive/lymphoma.tar/CLL/sj-03-4957_002.tif\n",
            "/content/drive/MyDrive/lymphoma.tar/CLL/sj-05-3874-R2_002.tif\n",
            "/content/drive/MyDrive/lymphoma.tar/CLL/sj-05-3874-R2_001.tif\n",
            "/content/drive/MyDrive/lymphoma.tar/MCL/sj-05-768_008.tif\n",
            "/content/drive/MyDrive/lymphoma.tar/MCL/sj-05-4179-R1_002.tif\n",
            "/content/drive/MyDrive/lymphoma.tar/CLL/sj-03-476_005.tif\n",
            "/content/drive/MyDrive/lymphoma.tar/CLL/sj-03-4957_006.tif\n",
            "/content/drive/MyDrive/lymphoma.tar/FL/sj-05-5389-R1_004.tif\n",
            "/content/drive/MyDrive/lymphoma.tar/MCL/sj-04-4525-R4_007.tif\n",
            "/content/drive/MyDrive/lymphoma.tar/CLL/sj-05-3344_009.tif\n",
            "/content/drive/MyDrive/lymphoma.tar/CLL/sj-03-2810_005.tif\n",
            "/content/drive/MyDrive/lymphoma.tar/MCL/sj-05-3362-R2_002.tif\n",
            "/content/drive/MyDrive/lymphoma.tar/FL/sj-05-5389-R1_010.tif\n",
            "/content/drive/MyDrive/lymphoma.tar/CLL/sj-03-852-R2_002.tif\n",
            "/content/drive/MyDrive/lymphoma.tar/CLL/sj-05-3165_010.tif\n",
            "/content/drive/MyDrive/lymphoma.tar/MCL/sj-04-6010-R3_010.tif\n",
            "/content/drive/MyDrive/lymphoma.tar/MCL/sj-04-6010-R3_004.tif\n",
            "/content/drive/MyDrive/lymphoma.tar/MCL/sj-05-901-R1_008.tif\n",
            "/content/drive/MyDrive/lymphoma.tar/FL/sj-05-5389-R1_011.tif\n",
            "/content/drive/MyDrive/lymphoma.tar/FL/sj-05-5311-R1_005.tif\n",
            "/content/drive/MyDrive/lymphoma.tar/CLL/sj-03-5521_006.tif\n",
            "/content/drive/MyDrive/lymphoma.tar/CLL/sj-05-5269-R10_002.tif\n",
            "/content/drive/MyDrive/lymphoma.tar/FL/sj-05-1467-R1_004.tif\n",
            "/content/drive/MyDrive/lymphoma.tar/MCL/sj-05-5326-R1_001.tif\n",
            "/content/drive/MyDrive/lymphoma.tar/FL/sj-05-5389-R1_008.tif\n",
            "/content/drive/MyDrive/lymphoma.tar/MCL/sj-05-1374_010.tif\n",
            "/content/drive/MyDrive/lymphoma.tar/CLL/sj-05-3344_008.tif\n",
            "/content/drive/MyDrive/lymphoma.tar/FL/sj-05-5389-R1_009.tif\n",
            "/content/drive/MyDrive/lymphoma.tar/FL/sj-05-6124-R4_006.tif\n",
            "/content/drive/MyDrive/lymphoma.tar/MCL/sj-05-4179-R1_010.tif\n",
            "/content/drive/MyDrive/lymphoma.tar/MCL/sj-05-5326-R1_012.tif\n",
            "/content/drive/MyDrive/lymphoma.tar/CLL/sj-05-1396-R3_007.tif\n",
            "/content/drive/MyDrive/lymphoma.tar/FL/sj-05-5311-R1_008.tif\n",
            "/content/drive/MyDrive/lymphoma.tar/CLL/sj-05-5269-R10_013.tif\n",
            "/content/drive/MyDrive/lymphoma.tar/MCL/sj-05-4179-R1_007.tif\n",
            "/content/drive/MyDrive/lymphoma.tar/MCL/sj-04-3077-R2_011.tif\n",
            "/content/drive/MyDrive/lymphoma.tar/FL/sj-05-4881-R3_002.tif\n",
            "/content/drive/MyDrive/lymphoma.tar/MCL/sj-05-901-R1_004.tif\n",
            "/content/drive/MyDrive/lymphoma.tar/MCL/sj-05-768_014.tif\n",
            "/content/drive/MyDrive/lymphoma.tar/CLL/sj-05-3874-R2_005.tif\n",
            "/content/drive/MyDrive/lymphoma.tar/CLL/sj-05-5269-R10_005.tif\n",
            "/content/drive/MyDrive/lymphoma.tar/FL/sj-05-5389-R1_016.tif\n",
            "/content/drive/MyDrive/lymphoma.tar/MCL/sj-05-3362-R2_007.tif\n",
            "/content/drive/MyDrive/lymphoma.tar/MCL/sj-04-4967-R2_008.tif\n",
            "/content/drive/MyDrive/lymphoma.tar/FL/sj-05-5311-R1_002.tif\n",
            "/content/drive/MyDrive/lymphoma.tar/FL/sj-05-5829_009.tif\n",
            "/content/drive/MyDrive/lymphoma.tar/MCL/sj-04-4525-R4_011.tif\n",
            "/content/drive/MyDrive/lymphoma.tar/FL/sj-05-5829_005.tif\n",
            "/content/drive/MyDrive/lymphoma.tar/CLL/sj-05-3874-R2_004.tif\n",
            "/content/drive/MyDrive/lymphoma.tar/CLL/sj-03-5521_001.tif\n",
            "/content/drive/MyDrive/lymphoma.tar/MCL/sj-04-6010-R3_005.tif\n",
            "/content/drive/MyDrive/lymphoma.tar/CLL/sj-03-2810_010.tif\n",
            "/content/drive/MyDrive/lymphoma.tar/MCL/sj-05-901-R1_010.tif\n",
            "/content/drive/MyDrive/lymphoma.tar/MCL/sj-05-3362-R2_001.tif\n",
            "/content/drive/MyDrive/lymphoma.tar/FL/sj-05-588-R1_006.tif\n",
            "/content/drive/MyDrive/lymphoma.tar/FL/sj-05-1881-R1_005.tif\n",
            "/content/drive/MyDrive/lymphoma.tar/FL/sj-05-894-R3_007.tif\n",
            "/content/drive/MyDrive/lymphoma.tar/FL/sj-05-894-R3_002.tif\n",
            "/content/drive/MyDrive/lymphoma.tar/FL/sj-05-894-R3_001.tif\n",
            "/content/drive/MyDrive/lymphoma.tar/MCL/sj-05-768_004.tif\n",
            "/content/drive/MyDrive/lymphoma.tar/FL/sj-05-5829_012.tif\n",
            "/content/drive/MyDrive/lymphoma.tar/FL/sj-05-6124-R3_010.tif\n",
            "/content/drive/MyDrive/lymphoma.tar/MCL/sj-04-4967-R2_003.tif\n",
            "/content/drive/MyDrive/lymphoma.tar/FL/sj-05-588-R1_002.tif\n",
            "/content/drive/MyDrive/lymphoma.tar/FL/sj-05-1467-R1_006.tif\n",
            "/content/drive/MyDrive/lymphoma.tar/MCL/sj-05-1374_013.tif\n",
            "/content/drive/MyDrive/lymphoma.tar/CLL/sj-05-1396-R3_005.tif\n",
            "/content/drive/MyDrive/lymphoma.tar/FL/sj-05-5389-R1_007.tif\n",
            "/content/drive/MyDrive/lymphoma.tar/CLL/sj-03-852-R2_003.tif\n",
            "/content/drive/MyDrive/lymphoma.tar/MCL/sj-04-4525-R4_002.tif\n",
            "/content/drive/MyDrive/lymphoma.tar/FL/sj-05-1467-R1_005.tif\n",
            "/content/drive/MyDrive/lymphoma.tar/FL/sj-05-5829_010.tif\n",
            "/content/drive/MyDrive/lymphoma.tar/CLL/sj-03-4957_009.tif\n",
            "/content/drive/MyDrive/lymphoma.tar/FL/sj-05-5829_003.tif\n",
            "/content/drive/MyDrive/lymphoma.tar/MCL/sj-05-4179-R1_009.tif\n",
            "/content/drive/MyDrive/lymphoma.tar/FL/sj-05-5389-R1_014.tif\n",
            "/content/drive/MyDrive/lymphoma.tar/FL/sj-05-6124-R4_015.tif\n",
            "/content/drive/MyDrive/lymphoma.tar/FL/sj-05-6124-R4_014.tif\n",
            "/content/drive/MyDrive/lymphoma.tar/CLL/sj-05-3874-R2_007.tif\n",
            "/content/drive/MyDrive/lymphoma.tar/FL/sj-05-6124-R3_015.tif\n",
            "/content/drive/MyDrive/lymphoma.tar/MCL/sj-05-768_011.tif\n",
            "/content/drive/MyDrive/lymphoma.tar/CLL/sj-05-3874-R2_006.tif\n",
            "/content/drive/MyDrive/lymphoma.tar/FL/sj-05-1467-R1_003.tif\n",
            "/content/drive/MyDrive/lymphoma.tar/FL/sj-05-4881-R3_001.tif\n",
            "/content/drive/MyDrive/lymphoma.tar/FL/sj-05-5829_011.tif\n",
            "/content/drive/MyDrive/lymphoma.tar/CLL/sj-03-5521_005.tif\n",
            "/content/drive/MyDrive/lymphoma.tar/CLL/sj-03-852-R2_006.tif\n",
            "/content/drive/MyDrive/lymphoma.tar/CLL/sj-03-852-R2_009.tif\n",
            "/content/drive/MyDrive/lymphoma.tar/MCL/sj-05-5326-R1_005.tif\n",
            "/content/drive/MyDrive/lymphoma.tar/FL/sj-05-1881-R1_002.tif\n",
            "/content/drive/MyDrive/lymphoma.tar/CLL/sj-03-5521_009.tif\n",
            "/content/drive/MyDrive/lymphoma.tar/CLL/sj-05-5269-R10_007.tif\n",
            "/content/drive/MyDrive/lymphoma.tar/MCL/sj-05-901-R1_003.tif\n",
            "/content/drive/MyDrive/lymphoma.tar/MCL/sj-05-768_009.tif\n",
            "/content/drive/MyDrive/lymphoma.tar/MCL/sj-05-1374_014.tif\n",
            "/content/drive/MyDrive/lymphoma.tar/FL/sj-05-894-R3_010.tif\n",
            "/content/drive/MyDrive/lymphoma.tar/MCL/sj-04-3077-R2_010.tif\n",
            "/content/drive/MyDrive/lymphoma.tar/CLL/sj-03-852-R2_004.tif\n",
            "/content/drive/MyDrive/lymphoma.tar/FL/sj-05-894-R3_009.tif\n",
            "val\n",
            "/content/drive/MyDrive/lymphoma.tar/FL/sj-05-5311-R1_004.tif\n",
            "/content/drive/MyDrive/lymphoma.tar/MCL/sj-04-4525-R4_008.tif\n",
            "/content/drive/MyDrive/lymphoma.tar/FL/sj-05-1881-R1_009.tif\n",
            "/content/drive/MyDrive/lymphoma.tar/MCL/sj-04-3077-R2_006.tif\n",
            "/content/drive/MyDrive/lymphoma.tar/FL/sj-05-5389-R1_018.tif\n",
            "/content/drive/MyDrive/lymphoma.tar/MCL/sj-05-5326-R1_010.tif\n",
            "/content/drive/MyDrive/lymphoma.tar/FL/sj-05-894-R3_004.tif\n",
            "/content/drive/MyDrive/lymphoma.tar/CLL/sj-03-2810_002.tif\n",
            "/content/drive/MyDrive/lymphoma.tar/CLL/sj-03-5521_008.tif\n",
            "/content/drive/MyDrive/lymphoma.tar/FL/sj-05-5389-R1_006.tif\n",
            "/content/drive/MyDrive/lymphoma.tar/MCL/sj-05-1374_011.tif\n",
            "/content/drive/MyDrive/lymphoma.tar/CLL/sj-03-4957_001.tif\n",
            "/content/drive/MyDrive/lymphoma.tar/MCL/sj-05-768_006.tif\n",
            "/content/drive/MyDrive/lymphoma.tar/MCL/sj-05-1374_005.tif\n",
            "/content/drive/MyDrive/lymphoma.tar/FL/sj-05-4881-R3_008.tif\n",
            "/content/drive/MyDrive/lymphoma.tar/CLL/sj-03-476_003.tif\n",
            "/content/drive/MyDrive/lymphoma.tar/CLL/sj-03-2810_004.tif\n",
            "/content/drive/MyDrive/lymphoma.tar/FL/sj-05-5829_002.tif\n",
            "/content/drive/MyDrive/lymphoma.tar/FL/sj-05-894-R3_014.tif\n",
            "/content/drive/MyDrive/lymphoma.tar/FL/sj-05-894-R3_005.tif\n"
          ]
        }
      ]
    }
  ]
}