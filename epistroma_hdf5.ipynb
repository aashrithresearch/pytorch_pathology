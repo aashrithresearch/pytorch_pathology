{
  "nbformat": 4,
  "nbformat_minor": 0,
  "metadata": {
    "colab": {
      "provenance": [],
      "authorship_tag": "ABX9TyOtiM6j8qMNKWimr8h3Yv09",
      "include_colab_link": true
    },
    "kernelspec": {
      "name": "python3",
      "display_name": "Python 3"
    },
    "language_info": {
      "name": "python"
    }
  },
  "cells": [
    {
      "cell_type": "markdown",
      "metadata": {
        "id": "view-in-github",
        "colab_type": "text"
      },
      "source": [
        "<a href=\"https://colab.research.google.com/github/aashrithresearch/pytorch_pathology/blob/main/epistroma_hdf5.ipynb\" target=\"_parent\"><img src=\"https://colab.research.google.com/assets/colab-badge.svg\" alt=\"Open In Colab\"/></a>"
      ]
    },
    {
      "cell_type": "code",
      "execution_count": null,
      "metadata": {
        "colab": {
          "base_uri": "https://localhost:8080/"
        },
        "id": "OXiXcEHzrVJA",
        "outputId": "029f93eb-61a3-46bf-e239-d555bb716ffb"
      },
      "outputs": [
        {
          "output_type": "stream",
          "name": "stdout",
          "text": [
            "Mounted at /content/drive\n"
          ]
        }
      ],
      "source": [
        "from google.colab import drive\n",
        "drive.mount('/content/drive')"
      ]
    },
    {
      "cell_type": "code",
      "source": [
        "import sklearn\n",
        "print('The scikit-learn version is {}.'.format(sklearn.__version__))"
      ],
      "metadata": {
        "colab": {
          "base_uri": "https://localhost:8080/"
        },
        "id": "HD3Kee6hrz3H",
        "outputId": "93679bf8-9efa-40d5-e846-9318028e95d0"
      },
      "execution_count": null,
      "outputs": [
        {
          "output_type": "stream",
          "name": "stdout",
          "text": [
            "The scikit-learn version is 1.6.1.\n"
          ]
        }
      ]
    },
    {
      "cell_type": "code",
      "source": [
        "dataname = 'epistroma' #will help for using paths\n",
        "patch_size = 500 #sz of tiles to extract\n",
        "stride_size = 250 #dst between patches\n",
        "mirror_pad_size = 250 #num pixels to pad after resz\n",
        "test_set_size = 0.1\n",
        "resize = 1 #resz input images\n",
        "classes = [0, 1] #classes labels w nums"
      ],
      "metadata": {
        "id": "SF-2q2Y7sE6H"
      },
      "execution_count": null,
      "outputs": []
    },
    {
      "cell_type": "code",
      "source": [
        "import torch\n",
        "import tables\n",
        "\n",
        "import os,sys\n",
        "import glob\n",
        "\n",
        "import PIL\n",
        "import numpy as np\n",
        "\n",
        "import cv2\n",
        "import matplotlib.pyplot as plt\n",
        "from sklearn import model_selection\n",
        "\n",
        "import random\n",
        "import numbers\n",
        "from numpy.lib.stride_tricks import as_strided\n",
        "\n",
        "seed = random.randrange(sys.maxsize)\n",
        "random.seed(seed)\n",
        "print(f\"random seed: {seed}\")"
      ],
      "metadata": {
        "colab": {
          "base_uri": "https://localhost:8080/"
        },
        "id": "wOT7orsQsrGZ",
        "outputId": "ff68ed22-491c-4518-db34-d28887775985"
      },
      "execution_count": null,
      "outputs": [
        {
          "output_type": "stream",
          "name": "stdout",
          "text": [
            "random seed: 8265515718574625133\n"
          ]
        }
      ]
    },
    {
      "cell_type": "code",
      "source": [
        "def extract_patches(arr, patch_shape=8, extraction_step=1):\n",
        "    arr_ndim = arr.ndim\n",
        "\n",
        "    if isinstance(patch_shape, numbers.Number):\n",
        "        patch_shape = tuple([patch_shape] * arr_ndim)\n",
        "    if isinstance(extraction_step, numbers.Number):\n",
        "        extraction_step = tuple([extraction_step] * arr_ndim)\n",
        "\n",
        "    patch_strides = arr.strides\n",
        "\n",
        "    slices = tuple(slice(None, None, st) for st in extraction_step)\n",
        "    indexing_strides = arr[slices].strides\n",
        "\n",
        "    patch_indices_shape = (\n",
        "        (np.array(arr.shape) - np.array(patch_shape)) // np.array(extraction_step)\n",
        "    ) + 1\n",
        "\n",
        "    shape = tuple(list(patch_indices_shape) + list(patch_shape))\n",
        "    strides = tuple(list(indexing_strides) + list(patch_strides))\n",
        "\n",
        "    patches = as_strided(arr, shape=shape, strides=strides)\n",
        "    return patches"
      ],
      "metadata": {
        "id": "1WKicU5zsyW8"
      },
      "execution_count": null,
      "outputs": []
    },
    {
      "cell_type": "code",
      "source": [
        "img_dtype = tables.UInt8Atom()\n",
        "filenameAtom = tables.StringAtom(itemsize=255)"
      ],
      "metadata": {
        "id": "7iPOdXV9tOzL"
      },
      "execution_count": null,
      "outputs": []
    },
    {
      "cell_type": "code",
      "source": [
        "files=glob.glob('/content/drive/MyDrive/epi/masks/*.png') #files list\n",
        "\n",
        "#training/valid phases\n",
        "phases={}\n",
        "phases[\"train\"],phases[\"val\"]=next(iter(model_selection.ShuffleSplit(n_splits=1,test_size=test_set_size).split(files)))\n",
        "\n",
        "#creating 2 images types\n",
        "imgtypes=[\"img\",\"mask\"]"
      ],
      "metadata": {
        "id": "gQYTPLDnteqx"
      },
      "execution_count": null,
      "outputs": []
    },
    {
      "cell_type": "code",
      "source": [
        "storage={}\n",
        "\n",
        "block_shape={}\n",
        "block_shape[\"img\"]= np.array((patch_size,patch_size,3))\n",
        "block_shape[\"mask\"]= np.array((patch_size,patch_size))\n",
        "\n",
        "filters=tables.Filters(complevel=6, complib='zlib')\n",
        "\n",
        "\n",
        "for phase in phases.keys():\n",
        "    print(phase)\n",
        "\n",
        "    totals=np.zeros((2,len(classes)))\n",
        "    totals[0,:]=classes\n",
        "\n",
        "    hdf5_file = tables.open_file(f\"/content/drive/MyDrive/epi/{dataname}_{phase}.pytable\", mode='w')\n",
        "    storage[\"filename\"] = hdf5_file.create_earray(hdf5_file.root, 'filename', filenameAtom, (0,))\n",
        "\n",
        "    for imgtype in imgtypes:\n",
        "        storage[imgtype]= hdf5_file.create_earray(hdf5_file.root, imgtype, img_dtype,\n",
        "                                                  shape=np.append([0],block_shape[imgtype]),\n",
        "                                                  chunkshape=np.append([1],block_shape[imgtype]),\n",
        "                                                  filters=filters)\n",
        "\n",
        "    for filei in phases[phase]:\n",
        "        fname=files[filei]\n",
        "\n",
        "        print(fname)\n",
        "        for imgtype in imgtypes:\n",
        "            print(imgtype)\n",
        "            if(imgtype==\"img\"):\n",
        "                io=cv2.cvtColor(cv2.imread(\"/content/drive/MyDrive/epi/\"+os.path.basename(fname).replace(\"_mask.png\",\".tif\")),cv2.COLOR_BGR2RGB)\n",
        "                interp_method=PIL.Image.BICUBIC\n",
        "\n",
        "            else:\n",
        "                io=cv2.imread(fname)/255\n",
        "                interp_method=PIL.Image.NEAREST\n",
        "\n",
        "                for i,key in enumerate(classes):\n",
        "                    totals[1,i]+=sum(sum(io[:,:,0]==key))\n",
        "\n",
        "\n",
        "            io = cv2.resize(io,(0,0),fx=resize,fy=resize, interpolation=interp_method)\n",
        "            io = np.pad(io, [(mirror_pad_size, mirror_pad_size), (mirror_pad_size, mirror_pad_size), (0, 0)], mode=\"reflect\")\n",
        "\n",
        "            io_arr_out=extract_patches(io,(patch_size,patch_size,3),stride_size)\n",
        "\n",
        "            io_arr_out=io_arr_out.reshape(-1,patch_size,patch_size,3)\n",
        "\n",
        "\n",
        "\n",
        "            if(imgtype==\"img\"):\n",
        "                storage[imgtype].append(io_arr_out)\n",
        "            else:\n",
        "                storage[imgtype].append(io_arr_out[:,:,:,0].squeeze())\n",
        "\n",
        "        storage[\"filename\"].append([fname for x in range(io_arr_out.shape[0])])\n",
        "\n",
        "    npixels=hdf5_file.create_carray(hdf5_file.root, 'numpixels', tables.Atom.from_dtype(totals.dtype), totals.shape)\n",
        "    npixels[:]=totals\n",
        "    hdf5_file.close()"
      ],
      "metadata": {
        "colab": {
          "base_uri": "https://localhost:8080/"
        },
        "id": "-OLFS7y7txCw",
        "outputId": "c5ec21d6-7478-4070-d85f-cbd96c3236d5"
      },
      "execution_count": null,
      "outputs": [
        {
          "output_type": "stream",
          "name": "stdout",
          "text": [
            "train\n",
            "/content/drive/MyDrive/epi/masks/9227_00006_mask.png\n",
            "img\n",
            "mask\n",
            "/content/drive/MyDrive/epi/masks/12820_00005_mask.png\n",
            "img\n",
            "mask\n",
            "/content/drive/MyDrive/epi/masks/10302_00098_mask.png\n",
            "img\n",
            "mask\n",
            "/content/drive/MyDrive/epi/masks/10261_00002_mask.png\n",
            "img\n",
            "mask\n",
            "/content/drive/MyDrive/epi/masks/9346_00019_mask.png\n",
            "img\n",
            "mask\n",
            "/content/drive/MyDrive/epi/masks/10282_00016_mask.png\n",
            "img\n",
            "mask\n",
            "/content/drive/MyDrive/epi/masks/9023_00012_mask.png\n",
            "img\n",
            "mask\n",
            "/content/drive/MyDrive/epi/masks/8957_00005_mask.png\n",
            "img\n",
            "mask\n",
            "/content/drive/MyDrive/epi/masks/9043_00045_mask.png\n",
            "img\n",
            "mask\n",
            "/content/drive/MyDrive/epi/masks/10295_00012_mask.png\n",
            "img\n",
            "mask\n",
            "/content/drive/MyDrive/epi/masks/12947_00004_mask.png\n",
            "img\n",
            "mask\n",
            "/content/drive/MyDrive/epi/masks/10286_00014_mask.png\n",
            "img\n",
            "mask\n",
            "/content/drive/MyDrive/epi/masks/12819_00004_mask.png\n",
            "img\n",
            "mask\n",
            "/content/drive/MyDrive/epi/masks/10304_00005_mask.png\n",
            "img\n",
            "mask\n",
            "/content/drive/MyDrive/epi/masks/10291_00012_mask.png\n",
            "img\n",
            "mask\n",
            "/content/drive/MyDrive/epi/masks/10285_00007_mask.png\n",
            "img\n",
            "mask\n",
            "/content/drive/MyDrive/epi/masks/8975_00017_mask.png\n",
            "img\n",
            "mask\n",
            "/content/drive/MyDrive/epi/masks/9250_00025_mask.png\n",
            "img\n",
            "mask\n",
            "/content/drive/MyDrive/epi/masks/8918_00007_mask.png\n",
            "img\n",
            "mask\n",
            "/content/drive/MyDrive/epi/masks/10260_00022_mask.png\n",
            "img\n",
            "mask\n",
            "/content/drive/MyDrive/epi/masks/12911_00005_mask.png\n",
            "img\n",
            "mask\n",
            "/content/drive/MyDrive/epi/masks/12626_00016_mask.png\n",
            "img\n",
            "mask\n",
            "/content/drive/MyDrive/epi/masks/10288_00003_mask.png\n",
            "img\n",
            "mask\n",
            "/content/drive/MyDrive/epi/masks/12907_00003_mask.png\n",
            "img\n",
            "mask\n",
            "/content/drive/MyDrive/epi/masks/10279_00049_mask.png\n",
            "img\n",
            "mask\n",
            "/content/drive/MyDrive/epi/masks/12932_00003_mask.png\n",
            "img\n",
            "mask\n",
            "/content/drive/MyDrive/epi/masks/10308_00048_mask.png\n",
            "img\n",
            "mask\n",
            "/content/drive/MyDrive/epi/masks/12929_00017_mask.png\n",
            "img\n",
            "mask\n",
            "/content/drive/MyDrive/epi/masks/12818_00006_mask.png\n",
            "img\n",
            "mask\n",
            "/content/drive/MyDrive/epi/masks/12875_00002_mask.png\n",
            "img\n",
            "mask\n",
            "/content/drive/MyDrive/epi/masks/10278_00006_mask.png\n",
            "img\n",
            "mask\n",
            "/content/drive/MyDrive/epi/masks/8974_00014_mask.png\n",
            "img\n",
            "mask\n",
            "/content/drive/MyDrive/epi/masks/12867_00005_mask.png\n",
            "img\n",
            "mask\n",
            "/content/drive/MyDrive/epi/masks/12881_00009_mask.png\n",
            "img\n",
            "mask\n",
            "/content/drive/MyDrive/epi/masks/10293_00011_mask.png\n",
            "img\n",
            "mask\n",
            "/content/drive/MyDrive/epi/masks/12826_00003_mask.png\n",
            "img\n",
            "mask\n",
            "/content/drive/MyDrive/epi/masks/12880_00001_mask.png\n",
            "img\n",
            "mask\n",
            "val\n",
            "/content/drive/MyDrive/epi/masks/12930_00008_mask.png\n",
            "img\n",
            "mask\n",
            "/content/drive/MyDrive/epi/masks/8951_00005_mask.png\n",
            "img\n",
            "mask\n",
            "/content/drive/MyDrive/epi/masks/12884_00018_mask.png\n",
            "img\n",
            "mask\n",
            "/content/drive/MyDrive/epi/masks/10264_00056_mask.png\n",
            "img\n",
            "mask\n",
            "/content/drive/MyDrive/epi/masks/12909_00003_mask.png\n",
            "img\n",
            "mask\n"
          ]
        }
      ]
    },
    {
      "cell_type": "code",
      "source": [],
      "metadata": {
        "id": "NNJB7Fd0uv1Z"
      },
      "execution_count": null,
      "outputs": []
    }
  ]
}