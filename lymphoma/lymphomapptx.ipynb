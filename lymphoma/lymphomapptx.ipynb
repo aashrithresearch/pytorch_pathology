{
  "nbformat": 4,
  "nbformat_minor": 0,
  "metadata": {
    "colab": {
      "provenance": [],
      "authorship_tag": "ABX9TyNVd6ujVrfkQtZGTCKEH3R5",
      "include_colab_link": true
    },
    "kernelspec": {
      "name": "python3",
      "display_name": "Python 3"
    },
    "language_info": {
      "name": "python"
    },
    "widgets": {
      "application/vnd.jupyter.widget-state+json": {
        "740f79f407e6465090969d10806e1d75": {
          "model_module": "@jupyter-widgets/controls",
          "model_name": "HBoxModel",
          "model_module_version": "1.5.0",
          "state": {
            "_dom_classes": [],
            "_model_module": "@jupyter-widgets/controls",
            "_model_module_version": "1.5.0",
            "_model_name": "HBoxModel",
            "_view_count": null,
            "_view_module": "@jupyter-widgets/controls",
            "_view_module_version": "1.5.0",
            "_view_name": "HBoxView",
            "box_style": "",
            "children": [
              "IPY_MODEL_2cc07d15717f45548266cf1bc2e093ed",
              "IPY_MODEL_745bd8d9974c416dbcbef900497e02b3",
              "IPY_MODEL_c30bbe696c86482ab184123d0f40f3bb"
            ],
            "layout": "IPY_MODEL_818310db54c842028f4ac73ecde51cbf"
          }
        },
        "2cc07d15717f45548266cf1bc2e093ed": {
          "model_module": "@jupyter-widgets/controls",
          "model_name": "HTMLModel",
          "model_module_version": "1.5.0",
          "state": {
            "_dom_classes": [],
            "_model_module": "@jupyter-widgets/controls",
            "_model_module_version": "1.5.0",
            "_model_name": "HTMLModel",
            "_view_count": null,
            "_view_module": "@jupyter-widgets/controls",
            "_view_module_version": "1.5.0",
            "_view_name": "HTMLView",
            "description": "",
            "description_tooltip": null,
            "layout": "IPY_MODEL_e58ed195424a4466bd5f2bb39ae90ba9",
            "placeholder": "​",
            "style": "IPY_MODEL_cfa32c45c6c54deb91a52a60f2a61ecc",
            "value": "100%"
          }
        },
        "745bd8d9974c416dbcbef900497e02b3": {
          "model_module": "@jupyter-widgets/controls",
          "model_name": "FloatProgressModel",
          "model_module_version": "1.5.0",
          "state": {
            "_dom_classes": [],
            "_model_module": "@jupyter-widgets/controls",
            "_model_module_version": "1.5.0",
            "_model_name": "FloatProgressModel",
            "_view_count": null,
            "_view_module": "@jupyter-widgets/controls",
            "_view_module_version": "1.5.0",
            "_view_name": "ProgressView",
            "bar_style": "success",
            "description": "",
            "description_tooltip": null,
            "layout": "IPY_MODEL_2ade0f1ddefd4563831043cd09efdf29",
            "max": 374,
            "min": 0,
            "orientation": "horizontal",
            "style": "IPY_MODEL_7db06dfa3fae4823bb8664eb44b569b5",
            "value": 374
          }
        },
        "c30bbe696c86482ab184123d0f40f3bb": {
          "model_module": "@jupyter-widgets/controls",
          "model_name": "HTMLModel",
          "model_module_version": "1.5.0",
          "state": {
            "_dom_classes": [],
            "_model_module": "@jupyter-widgets/controls",
            "_model_module_version": "1.5.0",
            "_model_name": "HTMLModel",
            "_view_count": null,
            "_view_module": "@jupyter-widgets/controls",
            "_view_module_version": "1.5.0",
            "_view_name": "HTMLView",
            "description": "",
            "description_tooltip": null,
            "layout": "IPY_MODEL_f4f33de87ba94f3ebf2277f4e299a8e1",
            "placeholder": "​",
            "style": "IPY_MODEL_1269a4f5f6fb45208e567e59b8d80d21",
            "value": " 374/374 [09:16&lt;00:00,  1.88s/it]"
          }
        },
        "818310db54c842028f4ac73ecde51cbf": {
          "model_module": "@jupyter-widgets/base",
          "model_name": "LayoutModel",
          "model_module_version": "1.2.0",
          "state": {
            "_model_module": "@jupyter-widgets/base",
            "_model_module_version": "1.2.0",
            "_model_name": "LayoutModel",
            "_view_count": null,
            "_view_module": "@jupyter-widgets/base",
            "_view_module_version": "1.2.0",
            "_view_name": "LayoutView",
            "align_content": null,
            "align_items": null,
            "align_self": null,
            "border": null,
            "bottom": null,
            "display": null,
            "flex": null,
            "flex_flow": null,
            "grid_area": null,
            "grid_auto_columns": null,
            "grid_auto_flow": null,
            "grid_auto_rows": null,
            "grid_column": null,
            "grid_gap": null,
            "grid_row": null,
            "grid_template_areas": null,
            "grid_template_columns": null,
            "grid_template_rows": null,
            "height": null,
            "justify_content": null,
            "justify_items": null,
            "left": null,
            "margin": null,
            "max_height": null,
            "max_width": null,
            "min_height": null,
            "min_width": null,
            "object_fit": null,
            "object_position": null,
            "order": null,
            "overflow": null,
            "overflow_x": null,
            "overflow_y": null,
            "padding": null,
            "right": null,
            "top": null,
            "visibility": null,
            "width": null
          }
        },
        "e58ed195424a4466bd5f2bb39ae90ba9": {
          "model_module": "@jupyter-widgets/base",
          "model_name": "LayoutModel",
          "model_module_version": "1.2.0",
          "state": {
            "_model_module": "@jupyter-widgets/base",
            "_model_module_version": "1.2.0",
            "_model_name": "LayoutModel",
            "_view_count": null,
            "_view_module": "@jupyter-widgets/base",
            "_view_module_version": "1.2.0",
            "_view_name": "LayoutView",
            "align_content": null,
            "align_items": null,
            "align_self": null,
            "border": null,
            "bottom": null,
            "display": null,
            "flex": null,
            "flex_flow": null,
            "grid_area": null,
            "grid_auto_columns": null,
            "grid_auto_flow": null,
            "grid_auto_rows": null,
            "grid_column": null,
            "grid_gap": null,
            "grid_row": null,
            "grid_template_areas": null,
            "grid_template_columns": null,
            "grid_template_rows": null,
            "height": null,
            "justify_content": null,
            "justify_items": null,
            "left": null,
            "margin": null,
            "max_height": null,
            "max_width": null,
            "min_height": null,
            "min_width": null,
            "object_fit": null,
            "object_position": null,
            "order": null,
            "overflow": null,
            "overflow_x": null,
            "overflow_y": null,
            "padding": null,
            "right": null,
            "top": null,
            "visibility": null,
            "width": null
          }
        },
        "cfa32c45c6c54deb91a52a60f2a61ecc": {
          "model_module": "@jupyter-widgets/controls",
          "model_name": "DescriptionStyleModel",
          "model_module_version": "1.5.0",
          "state": {
            "_model_module": "@jupyter-widgets/controls",
            "_model_module_version": "1.5.0",
            "_model_name": "DescriptionStyleModel",
            "_view_count": null,
            "_view_module": "@jupyter-widgets/base",
            "_view_module_version": "1.2.0",
            "_view_name": "StyleView",
            "description_width": ""
          }
        },
        "2ade0f1ddefd4563831043cd09efdf29": {
          "model_module": "@jupyter-widgets/base",
          "model_name": "LayoutModel",
          "model_module_version": "1.2.0",
          "state": {
            "_model_module": "@jupyter-widgets/base",
            "_model_module_version": "1.2.0",
            "_model_name": "LayoutModel",
            "_view_count": null,
            "_view_module": "@jupyter-widgets/base",
            "_view_module_version": "1.2.0",
            "_view_name": "LayoutView",
            "align_content": null,
            "align_items": null,
            "align_self": null,
            "border": null,
            "bottom": null,
            "display": null,
            "flex": null,
            "flex_flow": null,
            "grid_area": null,
            "grid_auto_columns": null,
            "grid_auto_flow": null,
            "grid_auto_rows": null,
            "grid_column": null,
            "grid_gap": null,
            "grid_row": null,
            "grid_template_areas": null,
            "grid_template_columns": null,
            "grid_template_rows": null,
            "height": null,
            "justify_content": null,
            "justify_items": null,
            "left": null,
            "margin": null,
            "max_height": null,
            "max_width": null,
            "min_height": null,
            "min_width": null,
            "object_fit": null,
            "object_position": null,
            "order": null,
            "overflow": null,
            "overflow_x": null,
            "overflow_y": null,
            "padding": null,
            "right": null,
            "top": null,
            "visibility": null,
            "width": null
          }
        },
        "7db06dfa3fae4823bb8664eb44b569b5": {
          "model_module": "@jupyter-widgets/controls",
          "model_name": "ProgressStyleModel",
          "model_module_version": "1.5.0",
          "state": {
            "_model_module": "@jupyter-widgets/controls",
            "_model_module_version": "1.5.0",
            "_model_name": "ProgressStyleModel",
            "_view_count": null,
            "_view_module": "@jupyter-widgets/base",
            "_view_module_version": "1.2.0",
            "_view_name": "StyleView",
            "bar_color": null,
            "description_width": ""
          }
        },
        "f4f33de87ba94f3ebf2277f4e299a8e1": {
          "model_module": "@jupyter-widgets/base",
          "model_name": "LayoutModel",
          "model_module_version": "1.2.0",
          "state": {
            "_model_module": "@jupyter-widgets/base",
            "_model_module_version": "1.2.0",
            "_model_name": "LayoutModel",
            "_view_count": null,
            "_view_module": "@jupyter-widgets/base",
            "_view_module_version": "1.2.0",
            "_view_name": "LayoutView",
            "align_content": null,
            "align_items": null,
            "align_self": null,
            "border": null,
            "bottom": null,
            "display": null,
            "flex": null,
            "flex_flow": null,
            "grid_area": null,
            "grid_auto_columns": null,
            "grid_auto_flow": null,
            "grid_auto_rows": null,
            "grid_column": null,
            "grid_gap": null,
            "grid_row": null,
            "grid_template_areas": null,
            "grid_template_columns": null,
            "grid_template_rows": null,
            "height": null,
            "justify_content": null,
            "justify_items": null,
            "left": null,
            "margin": null,
            "max_height": null,
            "max_width": null,
            "min_height": null,
            "min_width": null,
            "object_fit": null,
            "object_position": null,
            "order": null,
            "overflow": null,
            "overflow_x": null,
            "overflow_y": null,
            "padding": null,
            "right": null,
            "top": null,
            "visibility": null,
            "width": null
          }
        },
        "1269a4f5f6fb45208e567e59b8d80d21": {
          "model_module": "@jupyter-widgets/controls",
          "model_name": "DescriptionStyleModel",
          "model_module_version": "1.5.0",
          "state": {
            "_model_module": "@jupyter-widgets/controls",
            "_model_module_version": "1.5.0",
            "_model_name": "DescriptionStyleModel",
            "_view_count": null,
            "_view_module": "@jupyter-widgets/base",
            "_view_module_version": "1.2.0",
            "_view_name": "StyleView",
            "description_width": ""
          }
        }
      }
    }
  },
  "cells": [
    {
      "cell_type": "markdown",
      "metadata": {
        "id": "view-in-github",
        "colab_type": "text"
      },
      "source": [
        "<a href=\"https://colab.research.google.com/github/aashrithresearch/pytorch_pathology/blob/main/lymphoma/lymphomapptx.ipynb\" target=\"_parent\"><img src=\"https://colab.research.google.com/assets/colab-badge.svg\" alt=\"Open In Colab\"/></a>"
      ]
    },
    {
      "cell_type": "code",
      "execution_count": 1,
      "metadata": {
        "colab": {
          "base_uri": "https://localhost:8080/"
        },
        "id": "6TyAvpOGwPT4",
        "outputId": "0de98e48-e72b-4e44-c5e3-9fc49f4d4018"
      },
      "outputs": [
        {
          "output_type": "stream",
          "name": "stdout",
          "text": [
            "Mounted at /content/drive\n"
          ]
        }
      ],
      "source": [
        "from google.colab import drive\n",
        "drive.mount('/content/drive')"
      ]
    },
    {
      "cell_type": "code",
      "source": [
        "! pip install python-pptx -q"
      ],
      "metadata": {
        "colab": {
          "base_uri": "https://localhost:8080/"
        },
        "id": "VO2a_FzPwjQ7",
        "outputId": "b8fc5afd-7819-4981-fb9b-f69b5547dbfb"
      },
      "execution_count": 2,
      "outputs": [
        {
          "output_type": "stream",
          "name": "stdout",
          "text": [
            "\u001b[?25l   \u001b[90m━━━━━━━━━━━━━━━━━━━━━━━━━━━━━━━━━━━━━━━━\u001b[0m \u001b[32m0.0/472.8 kB\u001b[0m \u001b[31m?\u001b[0m eta \u001b[36m-:--:--\u001b[0m\r\u001b[2K   \u001b[90m━━━━━━━━━━━━━━━━━━━━━━━━━━━━━━━━━━━━━━━━\u001b[0m \u001b[32m472.8/472.8 kB\u001b[0m \u001b[31m19.8 MB/s\u001b[0m eta \u001b[36m0:00:00\u001b[0m\n",
            "\u001b[?25h\u001b[?25l   \u001b[90m━━━━━━━━━━━━━━━━━━━━━━━━━━━━━━━━━━━━━━━━\u001b[0m \u001b[32m0.0/169.4 kB\u001b[0m \u001b[31m?\u001b[0m eta \u001b[36m-:--:--\u001b[0m\r\u001b[2K   \u001b[90m━━━━━━━━━━━━━━━━━━━━━━━━━━━━━━━━━━━━━━━━\u001b[0m \u001b[32m169.4/169.4 kB\u001b[0m \u001b[31m12.2 MB/s\u001b[0m eta \u001b[36m0:00:00\u001b[0m\n",
            "\u001b[?25h"
          ]
        }
      ]
    },
    {
      "cell_type": "code",
      "source": [
        "from pptx import Presentation\n",
        "from pptx.util import Inches\n",
        "from datetime import datetime\n",
        "from skimage import color\n",
        "import glob\n",
        "import cv2\n",
        "import numpy as np\n",
        "from io import BytesIO\n",
        "from tqdm.autonotebook import tqdm\n",
        "import PIL.Image as Image"
      ],
      "metadata": {
        "colab": {
          "base_uri": "https://localhost:8080/"
        },
        "id": "SdU4yNMqwwRo",
        "outputId": "53347fbc-ee71-4a66-b9c0-4653312e41c1"
      },
      "execution_count": 3,
      "outputs": [
        {
          "output_type": "stream",
          "name": "stderr",
          "text": [
            "<ipython-input-3-5f111744811c>:9: TqdmExperimentalWarning: Using `tqdm.autonotebook.tqdm` in notebook mode. Use `tqdm.tqdm` instead to force console mode (e.g. in jupyter console)\n",
            "  from tqdm.autonotebook import tqdm\n"
          ]
        }
      ]
    },
    {
      "cell_type": "code",
      "source": [
        "title = \"lymphoma classification reproduced\"\n",
        "date = datetime.today()\n",
        "author = \"aashrith yedavalli\"\n",
        "comments = \"data and code taken from blog andrewjanowczyk.com \"\n",
        "pptxfname = \"lymphomapp.pptx\""
      ],
      "metadata": {
        "id": "Gc3c-PxTwytH"
      },
      "execution_count": 4,
      "outputs": []
    },
    {
      "cell_type": "code",
      "source": [
        "import glob\n",
        "\n",
        "mask_files = glob.glob(\"/content/drive/MyDrive/lymphoma.tar/**/*.tif\")"
      ],
      "metadata": {
        "id": "SayhqB9exGAG"
      },
      "execution_count": 10,
      "outputs": []
    },
    {
      "cell_type": "code",
      "source": [
        "prs = Presentation()\n",
        "prs.slide_width = Inches(10)\n",
        "prs.slide_height = Inches(10)\n",
        "\n",
        "blank_slide_layout = prs.slide_layouts[1]\n",
        "slide = prs.slides.add_slide(blank_slide_layout)\n",
        "\n",
        "slide.placeholders[0].text = title\n",
        "\n",
        "tf = slide.placeholders[1].text_frame\n",
        "tf.text = f'Date: {date}\\n'\n",
        "tf.text += f\"Author: {author}\\n\"\n",
        "tf.text += f\"Comments: {comments}\\n\""
      ],
      "metadata": {
        "id": "S_TULAKoxYjK"
      },
      "execution_count": 6,
      "outputs": []
    },
    {
      "cell_type": "code",
      "source": [
        "# Create a new slide with the desired layout\n",
        "blank_slide_layout = prs.slide_layouts[6]\n",
        "new_slide = prs.slides.add_slide(blank_slide_layout)\n",
        "\n",
        "# Add text boxes for your sentences\n",
        "left = Inches(1)  # Adjust position as needed\n",
        "top = Inches(1)\n",
        "width = Inches(8)\n",
        "height = Inches(1)\n",
        "\n",
        "# Add text box 1:\n",
        "txBox1 = new_slide.shapes.add_textbox(left, top, width, height)\n",
        "tf1 = txBox1.text_frame\n",
        "tf1.text = \"This is my lymphoma  project that I have created. The dataset contains 3 lymphoma classes, CLL, FL, and MCL. \"\n",
        "\n",
        "# Add text box 2:\n",
        "top += Inches(1.5)  # Adjust vertical spacing\n",
        "txBox2 = new_slide.shapes.add_textbox(left, top, width, height)\n",
        "tf2 = txBox2.text_frame\n",
        "tf2.text = \"Here is the approach that I followed: first I converted the image to hdf5 file format. Then, I trained the dataset using the hdf5 file using unet github. Then, I visualized the results using matplotlib and tensorboardX. Lastly, I was able to produce outputs for each image and respective classes.\"\n",
        "\n",
        "top += Inches(1.5)  # Adjust vertical spacing\n",
        "txBox3 = new_slide.shapes.add_textbox(left, top, width, height)\n",
        "tf3 = txBox3.text_frame\n",
        "tf3.text = \"After 100 epochs of training, the following metrics were: train loss = 0.0444, test loss = 6.6718, train acc = 0.9853, test acc = 0.4200. Using the tensorboardX, i was able to visualize all of the different metrics.\"\n",
        "\n",
        "top += Inches(1.5)  # Adjust vertical spacing\n",
        "txBox4 = new_slide.shapes.add_textbox(left, top, width, height)\n",
        "tf4 = txBox4.text_frame\n",
        "tf4.text = \"What I did differently: I combined many of the steps together. For example, instead of having a PS_scikitlearn library to install, I just wrote the code for it in the same notebook, combining many steps together. Also, I added comments to a lot of places in the code so that I could understand different processes taking place. Furthermore, I had to change many of the filenames or libraries that were outdated, and had to debug a lot of code, in this process. Lastly and most importantly, during the training process, I was able to add a function that was able to calculate train and test accuracy, helping me notice how the model was overfitting on the dataset. In the future, I would add more augmentations, dropout, and regularization techniques to minimize overfitting.\""
      ],
      "metadata": {
        "id": "aNaQ3vcjxbbo"
      },
      "execution_count": 7,
      "outputs": []
    },
    {
      "cell_type": "code",
      "source": [
        "def addimagetoslide(slide,img,left,top, height, width, resize = .5):\n",
        "    res = cv2.resize(img , None, fx=resize,fy=resize ,interpolation=cv2.INTER_CUBIC) #resizing\n",
        "    image_stream = BytesIO()\n",
        "    Image.fromarray(res).save(image_stream,format=\"PNG\")\n",
        "\n",
        "    pic = slide.shapes.add_picture(image_stream, left, top ,height,width)\n",
        "    image_stream.close()"
      ],
      "metadata": {
        "id": "xCWCy-RRynT8"
      },
      "execution_count": 9,
      "outputs": []
    },
    {
      "cell_type": "code",
      "source": [
        "def blend2Images(img, mask):\n",
        "    if (img.ndim == 3):\n",
        "        img = color.rgb2gray(img)\n",
        "    if (mask.ndim == 3):\n",
        "        mask = color.rgb2gray(mask)\n",
        "    img = img[:, :, None] * 1.0\n",
        "    mask = mask[:, :, None] * 1.0\n",
        "    out = np.concatenate((mask, img, mask), 2) * 255\n",
        "    return out.astype('uint8')"
      ],
      "metadata": {
        "id": "BPavmx4c11ef"
      },
      "execution_count": 11,
      "outputs": []
    },
    {
      "cell_type": "code",
      "source": [
        "import os\n",
        "\n",
        "for mask_fname in tqdm(mask_files):\n",
        "    blank_slide_layout = prs.slide_layouts[0]  # Assuming this layout is for content\n",
        "    slide = prs.slides.add_slide(blank_slide_layout)\n",
        "\n",
        "    orig_fname = mask_fname.replace(\"./masks\", \"./imgs\").replace(\"_mask.png\", \".tif\")\n",
        "    output_fname = mask_fname.replace(\"./masks\", \"./output\").replace(\"_output.png\", \"_class.png\")\n",
        "\n",
        "    # Load and add images\n",
        "    img = cv2.cvtColor(cv2.imread(orig_fname), cv2.COLOR_BGR2RGB)\n",
        "    addimagetoslide(slide, img, Inches(0), Inches(0), Inches(5), Inches(5))\n",
        "\n",
        "    mask = cv2.cvtColor(cv2.imread(mask_fname), cv2.COLOR_BGR2RGB)\n",
        "    addimagetoslide(slide, mask, Inches(5), Inches(0), Inches(5), Inches(5))\n",
        "\n",
        "    # Check if output file exists\n",
        "    if os.path.exists(output_fname):\n",
        "        output = cv2.cvtColor(cv2.imread(output_fname), cv2.COLOR_BGR2RGB)\n",
        "        addimagetoslide(slide, img, Inches(0), Inches(0), Inches(4), Inches(4))\n",
        "        addimagetoslide(slide, mask, Inches(4.5), Inches(0), Inches(4), Inches(4))\n",
        "        addimagetoslide(slide, output, Inches(4.5), Inches(4.5), Inches(4), Inches(4))\n",
        "        addimagetoslide(slide, blend2Images(output, mask), Inches(0), Inches(4.5), Inches(4), Inches(4))\n",
        "        txBox = slide.shapes.add_textbox(Inches(9), Inches(0), Inches(7), Inches(8))\n",
        "        # Add text box for metrics\n",
        "        txBox = slide.shapes.add_textbox(Inches(10), Inches(0), Inches(6), Inches(4))  # Increased width\n",
        "        tf = txBox.text_frame\n",
        "\n",
        "        # Add metrics with smaller font size and handling division by zero\n",
        "        tf.text = f\"{orig_fname}\\n\"\n",
        "\n",
        "        # Overall Pixel Agreement:\n",
        "        tf.text += f\"Overall Pixel Agreement: {(output==mask).mean():.4f}\\n\"\n",
        "        # True Positive Rate:\n",
        "        tp = (mask[output > 0] > 0).sum()\n",
        "        fp = (output > 0).sum()\n",
        "        if fp != 0:\n",
        "            tf.text += f\"True Positive Rate: {tp / fp:.4f}\\n\"\n",
        "        else:\n",
        "            tf.text += f\"True Positive Rate: N/A (No positive predictions)\\n\"\n",
        "\n",
        "        # False Positive Rate:\n",
        "        fp = (mask[output == 0] > 0).sum()\n",
        "        tn = (output == 0).sum()\n",
        "        if tn != 0:\n",
        "            tf.text += f\"False Positive Rate: {fp / tn:.4f}\\n\"\n",
        "        else:\n",
        "            tf.text += f\"False Positive Rate: N/A (No negative predictions)\\n\"\n",
        "\n",
        "        # True Negative Rate:\n",
        "        tn = (mask[output == 0] == 0).sum()\n",
        "        fp = (output == 0).sum()\n",
        "        if fp != 0:\n",
        "            tf.text += f\"True Negative Rate: {tn / fp:.4f}\\n\"\n",
        "        else:\n",
        "            tf.text += f\"True Negative Rate: N/A (No negative predictions)\\n\"\n",
        "        # False Negative Rate:\n",
        "        fn = (mask[output > 0] == 0).sum()\n",
        "        tp = (output > 0).sum()\n",
        "        if tp != 0:\n",
        "            tf.text += f\"False Negative Rate: {fn / tp:.4f}\\n\"\n",
        "        else:\n",
        "            tf.text += f\"False Negative Rate: N/A (No positive predictions)\\n\"\n",
        "    else:\n",
        "        print(f\"Warning: Output file not found: {output_fname}\")\n",
        "\n",
        "# Save the presentation\n",
        "prs.save(pptxfname)"
      ],
      "metadata": {
        "colab": {
          "base_uri": "https://localhost:8080/",
          "height": 49,
          "referenced_widgets": [
            "740f79f407e6465090969d10806e1d75",
            "2cc07d15717f45548266cf1bc2e093ed",
            "745bd8d9974c416dbcbef900497e02b3",
            "c30bbe696c86482ab184123d0f40f3bb",
            "818310db54c842028f4ac73ecde51cbf",
            "e58ed195424a4466bd5f2bb39ae90ba9",
            "cfa32c45c6c54deb91a52a60f2a61ecc",
            "2ade0f1ddefd4563831043cd09efdf29",
            "7db06dfa3fae4823bb8664eb44b569b5",
            "f4f33de87ba94f3ebf2277f4e299a8e1",
            "1269a4f5f6fb45208e567e59b8d80d21"
          ]
        },
        "id": "KrWbAkz5wWMF",
        "outputId": "3b1f6201-0ae5-441e-e723-d6234fafd9bb"
      },
      "execution_count": 12,
      "outputs": [
        {
          "output_type": "display_data",
          "data": {
            "text/plain": [
              "  0%|          | 0/374 [00:00<?, ?it/s]"
            ],
            "application/vnd.jupyter.widget-view+json": {
              "version_major": 2,
              "version_minor": 0,
              "model_id": "740f79f407e6465090969d10806e1d75"
            }
          },
          "metadata": {}
        }
      ]
    },
    {
      "cell_type": "code",
      "source": [],
      "metadata": {
        "id": "KoqWSWatwc9q"
      },
      "execution_count": null,
      "outputs": []
    }
  ]
}